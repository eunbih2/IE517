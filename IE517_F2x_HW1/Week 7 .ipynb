{
 "cells": [
  {
   "cell_type": "code",
   "execution_count": 2,
   "id": "5c292c4f",
   "metadata": {},
   "outputs": [],
   "source": [
    "import numpy as np\n",
    "import pandas as pd\n",
    "import seaborn as sns\n",
    "from matplotlib import pyplot as plt\n",
    "\n",
    "from sklearn.model_selection import train_test_split, StratifiedKFold\n",
    "from sklearn.model_selection import cross_val_score, GridSearchCV\n",
    "from sklearn.utils import resample\n",
    "from sklearn.metrics import confusion_matrix, accuracy_score\n",
    "\n",
    "from sklearn.tree import DecisionTreeClassifier\n",
    "from sklearn.ensemble import RandomForestClassifier"
   ]
  },
  {
   "cell_type": "code",
   "execution_count": 3,
   "id": "cdbc2dad",
   "metadata": {},
   "outputs": [
    {
     "data": {
      "text/html": [
       "<div>\n",
       "<style scoped>\n",
       "    .dataframe tbody tr th:only-of-type {\n",
       "        vertical-align: middle;\n",
       "    }\n",
       "\n",
       "    .dataframe tbody tr th {\n",
       "        vertical-align: top;\n",
       "    }\n",
       "\n",
       "    .dataframe thead th {\n",
       "        text-align: right;\n",
       "    }\n",
       "</style>\n",
       "<table border=\"1\" class=\"dataframe\">\n",
       "  <thead>\n",
       "    <tr style=\"text-align: right;\">\n",
       "      <th></th>\n",
       "      <th>ID</th>\n",
       "      <th>LIMIT_BAL</th>\n",
       "      <th>SEX</th>\n",
       "      <th>EDUCATION</th>\n",
       "      <th>MARRIAGE</th>\n",
       "      <th>AGE</th>\n",
       "      <th>PAY_0</th>\n",
       "      <th>PAY_2</th>\n",
       "      <th>PAY_3</th>\n",
       "      <th>PAY_4</th>\n",
       "      <th>...</th>\n",
       "      <th>BILL_AMT4</th>\n",
       "      <th>BILL_AMT5</th>\n",
       "      <th>BILL_AMT6</th>\n",
       "      <th>PAY_AMT1</th>\n",
       "      <th>PAY_AMT2</th>\n",
       "      <th>PAY_AMT3</th>\n",
       "      <th>PAY_AMT4</th>\n",
       "      <th>PAY_AMT5</th>\n",
       "      <th>PAY_AMT6</th>\n",
       "      <th>DEFAULT</th>\n",
       "    </tr>\n",
       "  </thead>\n",
       "  <tbody>\n",
       "    <tr>\n",
       "      <th>0</th>\n",
       "      <td>1</td>\n",
       "      <td>20000</td>\n",
       "      <td>2</td>\n",
       "      <td>2</td>\n",
       "      <td>1</td>\n",
       "      <td>24</td>\n",
       "      <td>2</td>\n",
       "      <td>2</td>\n",
       "      <td>-1</td>\n",
       "      <td>-1</td>\n",
       "      <td>...</td>\n",
       "      <td>0</td>\n",
       "      <td>0</td>\n",
       "      <td>0</td>\n",
       "      <td>0</td>\n",
       "      <td>689</td>\n",
       "      <td>0</td>\n",
       "      <td>0</td>\n",
       "      <td>0</td>\n",
       "      <td>0</td>\n",
       "      <td>1</td>\n",
       "    </tr>\n",
       "    <tr>\n",
       "      <th>1</th>\n",
       "      <td>2</td>\n",
       "      <td>120000</td>\n",
       "      <td>2</td>\n",
       "      <td>2</td>\n",
       "      <td>2</td>\n",
       "      <td>26</td>\n",
       "      <td>-1</td>\n",
       "      <td>2</td>\n",
       "      <td>0</td>\n",
       "      <td>0</td>\n",
       "      <td>...</td>\n",
       "      <td>3272</td>\n",
       "      <td>3455</td>\n",
       "      <td>3261</td>\n",
       "      <td>0</td>\n",
       "      <td>1000</td>\n",
       "      <td>1000</td>\n",
       "      <td>1000</td>\n",
       "      <td>0</td>\n",
       "      <td>2000</td>\n",
       "      <td>1</td>\n",
       "    </tr>\n",
       "    <tr>\n",
       "      <th>2</th>\n",
       "      <td>3</td>\n",
       "      <td>90000</td>\n",
       "      <td>2</td>\n",
       "      <td>2</td>\n",
       "      <td>2</td>\n",
       "      <td>34</td>\n",
       "      <td>0</td>\n",
       "      <td>0</td>\n",
       "      <td>0</td>\n",
       "      <td>0</td>\n",
       "      <td>...</td>\n",
       "      <td>14331</td>\n",
       "      <td>14948</td>\n",
       "      <td>15549</td>\n",
       "      <td>1518</td>\n",
       "      <td>1500</td>\n",
       "      <td>1000</td>\n",
       "      <td>1000</td>\n",
       "      <td>1000</td>\n",
       "      <td>5000</td>\n",
       "      <td>0</td>\n",
       "    </tr>\n",
       "    <tr>\n",
       "      <th>3</th>\n",
       "      <td>4</td>\n",
       "      <td>50000</td>\n",
       "      <td>2</td>\n",
       "      <td>2</td>\n",
       "      <td>1</td>\n",
       "      <td>37</td>\n",
       "      <td>0</td>\n",
       "      <td>0</td>\n",
       "      <td>0</td>\n",
       "      <td>0</td>\n",
       "      <td>...</td>\n",
       "      <td>28314</td>\n",
       "      <td>28959</td>\n",
       "      <td>29547</td>\n",
       "      <td>2000</td>\n",
       "      <td>2019</td>\n",
       "      <td>1200</td>\n",
       "      <td>1100</td>\n",
       "      <td>1069</td>\n",
       "      <td>1000</td>\n",
       "      <td>0</td>\n",
       "    </tr>\n",
       "    <tr>\n",
       "      <th>4</th>\n",
       "      <td>5</td>\n",
       "      <td>50000</td>\n",
       "      <td>1</td>\n",
       "      <td>2</td>\n",
       "      <td>1</td>\n",
       "      <td>57</td>\n",
       "      <td>-1</td>\n",
       "      <td>0</td>\n",
       "      <td>-1</td>\n",
       "      <td>0</td>\n",
       "      <td>...</td>\n",
       "      <td>20940</td>\n",
       "      <td>19146</td>\n",
       "      <td>19131</td>\n",
       "      <td>2000</td>\n",
       "      <td>36681</td>\n",
       "      <td>10000</td>\n",
       "      <td>9000</td>\n",
       "      <td>689</td>\n",
       "      <td>679</td>\n",
       "      <td>0</td>\n",
       "    </tr>\n",
       "  </tbody>\n",
       "</table>\n",
       "<p>5 rows × 25 columns</p>\n",
       "</div>"
      ],
      "text/plain": [
       "   ID  LIMIT_BAL  SEX  EDUCATION  MARRIAGE  AGE  PAY_0  PAY_2  PAY_3  PAY_4  \\\n",
       "0   1      20000    2          2         1   24      2      2     -1     -1   \n",
       "1   2     120000    2          2         2   26     -1      2      0      0   \n",
       "2   3      90000    2          2         2   34      0      0      0      0   \n",
       "3   4      50000    2          2         1   37      0      0      0      0   \n",
       "4   5      50000    1          2         1   57     -1      0     -1      0   \n",
       "\n",
       "   ...  BILL_AMT4  BILL_AMT5  BILL_AMT6  PAY_AMT1  PAY_AMT2  PAY_AMT3  \\\n",
       "0  ...          0          0          0         0       689         0   \n",
       "1  ...       3272       3455       3261         0      1000      1000   \n",
       "2  ...      14331      14948      15549      1518      1500      1000   \n",
       "3  ...      28314      28959      29547      2000      2019      1200   \n",
       "4  ...      20940      19146      19131      2000     36681     10000   \n",
       "\n",
       "   PAY_AMT4  PAY_AMT5  PAY_AMT6  DEFAULT  \n",
       "0         0         0         0        1  \n",
       "1      1000         0      2000        1  \n",
       "2      1000      1000      5000        0  \n",
       "3      1100      1069      1000        0  \n",
       "4      9000       689       679        0  \n",
       "\n",
       "[5 rows x 25 columns]"
      ]
     },
     "execution_count": 3,
     "metadata": {},
     "output_type": "execute_result"
    }
   ],
   "source": [
    "df = pd.read_csv('/Users/han-eunbi/Desktop/UIUC/23Spring/IE517/data/ccdefault.csv')\n",
    "df.head()"
   ]
  },
  {
   "cell_type": "code",
   "execution_count": 4,
   "id": "9bc4b6c4",
   "metadata": {},
   "outputs": [],
   "source": [
    "X = df.drop(['ID','DEFAULT'],axis=1)\n",
    "y = df['DEFAULT']\n"
   ]
  },
  {
   "cell_type": "code",
   "execution_count": 5,
   "id": "e3654611",
   "metadata": {},
   "outputs": [
    {
     "data": {
      "text/plain": [
       "((27000, 23), (3000, 23), (27000,), (3000,))"
      ]
     },
     "execution_count": 5,
     "metadata": {},
     "output_type": "execute_result"
    }
   ],
   "source": [
    "X_train, X_test,y_train,y_test = train_test_split(X,y,test_size=0.1,stratify=y, random_state=0)\n",
    "\n",
    "X_train.shape,X_test.shape,y_train.shape,y_test.shape"
   ]
  },
  {
   "cell_type": "code",
   "execution_count": 9,
   "id": "ad4ca20a",
   "metadata": {},
   "outputs": [
    {
     "name": "stdout",
     "output_type": "stream",
     "text": [
      "max depth of single tree is  23\n"
     ]
    }
   ],
   "source": [
    "single_t = DecisionTreeClassifier(random_state=1).fit(X_train,y_train)\n",
    "print('max depth of single tree is ',single_t.max_features_)"
   ]
  },
  {
   "cell_type": "markdown",
   "id": "bd14e60d",
   "metadata": {},
   "source": [
    "before fitting randomforestmodel I will train single tree to find optial parameters"
   ]
  },
  {
   "cell_type": "code",
   "execution_count": 10,
   "id": "9d689de3",
   "metadata": {},
   "outputs": [
    {
     "name": "stdout",
     "output_type": "stream",
     "text": [
      "Best parameter of single tree is  {'max_depth': 4}\n"
     ]
    }
   ],
   "source": [
    "dt = DecisionTreeClassifier(random_state=1)\n",
    "depth = np.arange(2,10,1)\n",
    "\n",
    "grid = dict(max_depth = depth)\n",
    "skf = StratifiedKFold(n_splits = 10,shuffle=True, random_state=1)\n",
    "grid_search = GridSearchCV(estimator = dt,\n",
    "                          param_grid = grid,\n",
    "                          cv = skf,\n",
    "                          scoring = 'accuracy',\n",
    "                          error_score = 0)\n",
    "dt_cv = grid_search.fit(X_train,y_train)\n",
    "print(\"Best parameter of single tree is \",dt_cv.best_params_)"
   ]
  },
  {
   "cell_type": "code",
   "execution_count": 12,
   "id": "45e1dfd3",
   "metadata": {},
   "outputs": [],
   "source": [
    "rf = RandomForestClassifier(random_state=1)\n",
    "\n",
    "estimator = [50,100,300,500]\n",
    "depth = [2,3,4,5]\n",
    "\n",
    "grid = dict(n_estimators = estimator, max_depth = depth)\n",
    "skf = StratifiedKFold(n_splits = 10, shuffle = True, random_state = 1)\n",
    "grid_search = GridSearchCV(estimator = rf,\n",
    "                           param_grid = grid,\n",
    "                           cv = skf,\n",
    "                           scoring = 'accuracy',\n",
    "                           error_score = 0)\n",
    "\n",
    "rf_cv = grid_search.fit(X_train,y_train)"
   ]
  },
  {
   "cell_type": "code",
   "execution_count": 14,
   "id": "57ae8269",
   "metadata": {
    "scrolled": true
   },
   "outputs": [
    {
     "name": "stdout",
     "output_type": "stream",
     "text": [
      "parameters {'max_depth': 2, 'n_estimators': 50}\n",
      "in-sample accuracy :  0.8039\n",
      "\n",
      "\n",
      "parameters {'max_depth': 2, 'n_estimators': 100}\n",
      "in-sample accuracy :  0.8016\n",
      "\n",
      "\n",
      "parameters {'max_depth': 2, 'n_estimators': 300}\n",
      "in-sample accuracy :  0.8004\n",
      "\n",
      "\n",
      "parameters {'max_depth': 2, 'n_estimators': 500}\n",
      "in-sample accuracy :  0.801\n",
      "\n",
      "\n",
      "parameters {'max_depth': 3, 'n_estimators': 50}\n",
      "in-sample accuracy :  0.8115\n",
      "\n",
      "\n",
      "parameters {'max_depth': 3, 'n_estimators': 100}\n",
      "in-sample accuracy :  0.8091\n",
      "\n",
      "\n",
      "parameters {'max_depth': 3, 'n_estimators': 300}\n",
      "in-sample accuracy :  0.8087\n",
      "\n",
      "\n",
      "parameters {'max_depth': 3, 'n_estimators': 500}\n",
      "in-sample accuracy :  0.8088\n",
      "\n",
      "\n",
      "parameters {'max_depth': 4, 'n_estimators': 50}\n",
      "in-sample accuracy :  0.8133\n",
      "\n",
      "\n",
      "parameters {'max_depth': 4, 'n_estimators': 100}\n",
      "in-sample accuracy :  0.8124\n",
      "\n",
      "\n",
      "parameters {'max_depth': 4, 'n_estimators': 300}\n",
      "in-sample accuracy :  0.8118\n",
      "\n",
      "\n",
      "parameters {'max_depth': 4, 'n_estimators': 500}\n",
      "in-sample accuracy :  0.8119\n",
      "\n",
      "\n",
      "parameters {'max_depth': 5, 'n_estimators': 50}\n",
      "in-sample accuracy :  0.8165\n",
      "\n",
      "\n",
      "parameters {'max_depth': 5, 'n_estimators': 100}\n",
      "in-sample accuracy :  0.8139\n",
      "\n",
      "\n",
      "parameters {'max_depth': 5, 'n_estimators': 300}\n",
      "in-sample accuracy :  0.8137\n",
      "\n",
      "\n",
      "parameters {'max_depth': 5, 'n_estimators': 500}\n",
      "in-sample accuracy :  0.8142\n",
      "\n",
      "\n"
     ]
    }
   ],
   "source": [
    "for i in range(16):# 5 x 4 = 20\n",
    "    print(\"parameters\",rf_cv.cv_results_['params'][i])\n",
    "    print('in-sample accuracy : ',np.round(rf_cv.cv_results_['mean_test_score'][i],4))\n",
    "    print('\\n')"
   ]
  },
  {
   "cell_type": "code",
   "execution_count": 15,
   "id": "95806eab",
   "metadata": {},
   "outputs": [
    {
     "name": "stdout",
     "output_type": "stream",
     "text": [
      "Best parameters are  {'max_depth': 5, 'n_estimators': 50}\n"
     ]
    }
   ],
   "source": [
    "print(\"Best parameters are \",rf_cv.best_params_)"
   ]
  },
  {
   "cell_type": "code",
   "execution_count": 16,
   "id": "ad35798a",
   "metadata": {},
   "outputs": [
    {
     "name": "stdout",
     "output_type": "stream",
     "text": [
      "Test accuracy score of best model is  0.8207\n"
     ]
    }
   ],
   "source": [
    "best_model = rf_cv.best_estimator_\n",
    "prediction = np.round(best_model.score(X_test,y_test),4)\n",
    "print(\"Test accuracy score of best model is \", prediction)"
   ]
  },
  {
   "cell_type": "markdown",
   "id": "a44b4e33",
   "metadata": {},
   "source": [
    "## Part 2 : Random Forest Feature Importance"
   ]
  },
  {
   "cell_type": "code",
   "execution_count": 20,
   "id": "cabe9bab",
   "metadata": {},
   "outputs": [
    {
     "data": {
      "image/png": "[encoded data removed]",
      "text/plain": [
       "<Figure size 640x480 with 1 Axes>"
      ]
     },
     "metadata": {},
     "output_type": "display_data"
    }
   ],
   "source": [
    "# individual feature importance of best model \n",
    "importance = pd.Series(data = best_model.feature_importances_,\n",
    "                      index = X_train.columns)\n",
    "importances_sorted = importance.sort_values()\n",
    "importances_sorted.plot(kind='barh')\n",
    "plt.title(\"Features importance\")\n",
    "plt.show()"
   ]
  },
  {
   "cell_type": "markdown",
   "id": "7ec0daa4",
   "metadata": {},
   "source": [
    "## Part 3 : Conclusion"
   ]
  },
  {
   "cell_type": "markdown",
   "id": "b4c84a1e",
   "metadata": {},
   "source": [
    "##### a. What is the relationship between n_estimators, in-sample CV accuracy and computation time?\n"
   ]
  },
  {
   "cell_type": "markdown",
   "id": "a535e8d0",
   "metadata": {},
   "source": [
    "Raising the value of 'n_estimators' can enhance the accuracy of the model, but only up to a certain point where any further improvements become minor. Elevating \n",
    "'n_estimators' also results in an increase in computational time. "
   ]
  },
  {
   "cell_type": "markdown",
   "id": "9fd03f5a",
   "metadata": {},
   "source": [
    "##### b. What is the optimal number of estimators for your forest?"
   ]
  },
  {
   "cell_type": "markdown",
   "id": "b7473c97",
   "metadata": {},
   "source": [
    "Best parameters are  {'max_depth': 5, 'n_estimators': 50}"
   ]
  },
  {
   "cell_type": "markdown",
   "id": "e546f405",
   "metadata": {},
   "source": [
    "##### c. Which features contibute the most importance in your model according to scikit-learn function?"
   ]
  },
  {
   "cell_type": "markdown",
   "id": "c63b3c86",
   "metadata": {},
   "source": [
    "PAY_0"
   ]
  },
  {
   "cell_type": "markdown",
   "id": "8f56a369",
   "metadata": {},
   "source": [
    "##### d. What is feature importance and how is it calculated"
   ]
  },
  {
   "cell_type": "markdown",
   "id": "ba5080b1",
   "metadata": {},
   "source": [
    "Impurity - based feature importances is the normalized total reduction of the criterion brought by that features"
   ]
  },
  {
   "cell_type": "code",
   "execution_count": 23,
   "id": "f307608d",
   "metadata": {},
   "outputs": [
    {
     "name": "stdout",
     "output_type": "stream",
     "text": [
      "My name is Eunbi Han\n",
      "My NETID is eunbih2\n",
      "I hereby certify that I have read the University policy on Academic Integrity and that I am not in violation\n"
     ]
    }
   ],
   "source": [
    "print(\"My name is Eunbi Han\")\n",
    "print(\"My NETID is eunbih2\")\n",
    "print(\"I hereby certify that I have read the University policy on Academic Integrity and that I am not in violation\")"
   ]
  },
  {
   "cell_type": "code",
   "execution_count": null,
   "id": "ad57fdf0",
   "metadata": {},
   "outputs": [],
   "source": []
  }
 ],
 "metadata": {
  "kernelspec": {
   "display_name": "Python 3 (ipykernel)",
   "language": "python",
   "name": "python3"
  },
  "language_info": {
   "codemirror_mode": {
    "name": "ipython",
    "version": 3
   },
   "file_extension": ".py",
   "mimetype": "text/x-python",
   "name": "python",
   "nbconvert_exporter": "python",
   "pygments_lexer": "ipython3",
   "version": "3.9.13"
  }
 },
 "nbformat": 4,
 "nbformat_minor": 5
}
